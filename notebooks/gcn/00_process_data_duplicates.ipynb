{
 "cells": [
  {
   "cell_type": "code",
   "execution_count": 9,
   "metadata": {},
   "outputs": [],
   "source": [
    "import glob\n",
    "import pandas as pd\n",
    "import numpy as np\n",
    "\n",
    "from rdkit import DataStructs\n",
    "from rdkit.Chem import AllChem, rdFingerprintGenerator"
   ]
  },
  {
   "cell_type": "markdown",
   "metadata": {},
   "source": [
    "### Confirmation of duplicates"
   ]
  },
  {
   "cell_type": "code",
   "execution_count": null,
   "metadata": {},
   "outputs": [],
   "source": [
    "# Specify the base directory, only one is needed\n",
    "base_dir = '../../data/preprocessed/random/'\n",
    "dfs = []\n",
    "\n",
    "# Loop through folds and data types (train/test)\n",
    "for fold in range(5):  # folds 0 to 4\n",
    "    for data_type in ['train', 'test']:\n",
    "        # Construct the filename pattern CHANGE HERE\n",
    "        file_path = f\"{base_dir}fold{fold}_smiles_{data_type}.npz\"\n",
    "\n",
    "        # Load the .npz file\n",
    "        data_files = glob.glob(file_path)  # This will find the matching files\n",
    "        for data_file in data_files:\n",
    "            with np.load(data_file, allow_pickle=True) as data:\n",
    "                df = pd.DataFrame(data['smiles'])\n",
    "                # Append the DataFrame to the list\n",
    "                dfs.append(df)\n",
    "\n",
    "# Concatenate all DataFrames into a single DataFrame\n",
    "final_df = pd.concat(dfs, ignore_index=True)"
   ]
  },
  {
   "cell_type": "code",
   "execution_count": 11,
   "metadata": {},
   "outputs": [
    {
     "name": "stdout",
     "output_type": "stream",
     "text": [
      "13329\n"
     ]
    },
    {
     "data": {
      "text/html": [
       "<div>\n",
       "<style scoped>\n",
       "    .dataframe tbody tr th:only-of-type {\n",
       "        vertical-align: middle;\n",
       "    }\n",
       "\n",
       "    .dataframe tbody tr th {\n",
       "        vertical-align: top;\n",
       "    }\n",
       "\n",
       "    .dataframe thead th {\n",
       "        text-align: right;\n",
       "    }\n",
       "</style>\n",
       "<table border=\"1\" class=\"dataframe\">\n",
       "  <thead>\n",
       "    <tr style=\"text-align: right;\">\n",
       "      <th></th>\n",
       "      <th>smiles</th>\n",
       "    </tr>\n",
       "  </thead>\n",
       "  <tbody>\n",
       "    <tr>\n",
       "      <th>0</th>\n",
       "      <td>Cc1cc(O)cc(C)c1Cl</td>\n",
       "    </tr>\n",
       "    <tr>\n",
       "      <th>1</th>\n",
       "      <td>CC(Oc1ccc(Cl)cc1Cl)C(=O)O</td>\n",
       "    </tr>\n",
       "    <tr>\n",
       "      <th>2</th>\n",
       "      <td>COC(=O)C=Cc1ccccc1</td>\n",
       "    </tr>\n",
       "    <tr>\n",
       "      <th>3</th>\n",
       "      <td>CC(C)NCC(O)c1ccc2ccccc2c1</td>\n",
       "    </tr>\n",
       "    <tr>\n",
       "      <th>4</th>\n",
       "      <td>COc1ccc2c(c1)OC(C)(C)C(c1ccccc1)C2c1ccc(OCCN2C...</td>\n",
       "    </tr>\n",
       "    <tr>\n",
       "      <th>...</th>\n",
       "      <td>...</td>\n",
       "    </tr>\n",
       "    <tr>\n",
       "      <th>13324</th>\n",
       "      <td>O=C(C[S+]([O-])Cc1ccco1)NC/C=C\\COc1cc(CN2CCCCC...</td>\n",
       "    </tr>\n",
       "    <tr>\n",
       "      <th>13325</th>\n",
       "      <td>CC(C)=CC(NC(=O)C1=C([O-])c2sc(Cl)cc2S(=O)(=O)N...</td>\n",
       "    </tr>\n",
       "    <tr>\n",
       "      <th>13326</th>\n",
       "      <td>CCCCCCCCOC(=O)C1=C(C)NC(C)=C(C(=O)NC2CC2)C1c1c...</td>\n",
       "    </tr>\n",
       "    <tr>\n",
       "      <th>13327</th>\n",
       "      <td>N#C/N=c1\\ccccn1Cc1ccc(Cl)cc1</td>\n",
       "    </tr>\n",
       "    <tr>\n",
       "      <th>13328</th>\n",
       "      <td>CO/N=C/C1=CCCN(OC(=O)Nc2ccc(Cl)cc2)C1</td>\n",
       "    </tr>\n",
       "  </tbody>\n",
       "</table>\n",
       "<p>13329 rows × 1 columns</p>\n",
       "</div>"
      ],
      "text/plain": [
       "                                                  smiles\n",
       "0                                      Cc1cc(O)cc(C)c1Cl\n",
       "1                              CC(Oc1ccc(Cl)cc1Cl)C(=O)O\n",
       "2                                     COC(=O)C=Cc1ccccc1\n",
       "3                              CC(C)NCC(O)c1ccc2ccccc2c1\n",
       "4      COc1ccc2c(c1)OC(C)(C)C(c1ccccc1)C2c1ccc(OCCN2C...\n",
       "...                                                  ...\n",
       "13324  O=C(C[S+]([O-])Cc1ccco1)NC/C=C\\COc1cc(CN2CCCCC...\n",
       "13325  CC(C)=CC(NC(=O)C1=C([O-])c2sc(Cl)cc2S(=O)(=O)N...\n",
       "13326  CCCCCCCCOC(=O)C1=C(C)NC(C)=C(C(=O)NC2CC2)C1c1c...\n",
       "13327                       N#C/N=c1\\ccccn1Cc1ccc(Cl)cc1\n",
       "13328              CO/N=C/C1=CCCN(OC(=O)Nc2ccc(Cl)cc2)C1\n",
       "\n",
       "[13329 rows x 1 columns]"
      ]
     },
     "execution_count": 11,
     "metadata": {},
     "output_type": "execute_result"
    }
   ],
   "source": [
    "final_df = final_df.rename(columns={0:'smiles'}).drop_duplicates(subset='smiles', keep='first')\n",
    "print(len(final_df))\n",
    "final_df"
   ]
  },
  {
   "cell_type": "code",
   "execution_count": 12,
   "metadata": {},
   "outputs": [
    {
     "name": "stdout",
     "output_type": "stream",
     "text": [
      "Percentage of duplicates in 'smiles': 0.00%\n"
     ]
    }
   ],
   "source": [
    "duplicates = final_df[final_df.duplicated(subset='smiles', keep=False)]\n",
    "\n",
    "# Calculate the percentage of duplicates\n",
    "duplicate_percentage = (len(duplicates) / len(final_df)) * 100 if len(final_df) > 0 else 0\n",
    "\n",
    "# Display the percentage of duplicates\n",
    "print(f\"Percentage of duplicates in 'smiles': {duplicate_percentage:.2f}%\")"
   ]
  },
  {
   "cell_type": "markdown",
   "metadata": {},
   "source": [
    "### Modification of smiles\n",
    "\n",
    "- replace @ with nothing"
   ]
  },
  {
   "cell_type": "code",
   "execution_count": 13,
   "metadata": {},
   "outputs": [],
   "source": [
    "final_df['smiles'] = final_df['smiles'].str.replace('@', '', regex=False)"
   ]
  },
  {
   "cell_type": "code",
   "execution_count": 14,
   "metadata": {},
   "outputs": [
    {
     "name": "stdout",
     "output_type": "stream",
     "text": [
      "Percentage of duplicates in 'smiles': 0.35%\n"
     ]
    }
   ],
   "source": [
    "duplicates = final_df[final_df.duplicated(subset='smiles', keep=False)]\n",
    "\n",
    "# Calculate the percentage of duplicates\n",
    "duplicate_percentage = (len(duplicates) / len(final_df)) * 100 if len(final_df) > 0 else 0\n",
    "print(f\"Percentage of duplicates in 'smiles': {duplicate_percentage:.2f}%\")"
   ]
  },
  {
   "cell_type": "code",
   "execution_count": 15,
   "metadata": {},
   "outputs": [
    {
     "name": "stdout",
     "output_type": "stream",
     "text": [
      "13304\n"
     ]
    }
   ],
   "source": [
    "final_df = final_df.drop_duplicates(subset='smiles', keep='first')\n",
    "final_df.reset_index(drop=True, inplace=True)\n",
    "print(len(final_df))"
   ]
  },
  {
   "cell_type": "markdown",
   "metadata": {},
   "source": [
    "### Tanimoto similarity on full dataset"
   ]
  },
  {
   "cell_type": "code",
   "execution_count": 16,
   "metadata": {},
   "outputs": [],
   "source": [
    "all_smiles = final_df['smiles']\n",
    "\n",
    "morgan_generator = rdFingerprintGenerator.GetMorganGenerator(radius=2)\n",
    "\n",
    "fps = []\n",
    "\n",
    "for smiles in all_smiles:\n",
    "    mol = AllChem.MolFromSmiles(smiles)\n",
    "    if mol is not None:\n",
    "        fps.append(morgan_generator.GetCountFingerprint(mol))\n",
    "    else:\n",
    "        print(f\"Invalid SMILES: {smiles}\")"
   ]
  },
  {
   "cell_type": "markdown",
   "metadata": {},
   "source": [
    "#### Identify only similarities of 1"
   ]
  },
  {
   "cell_type": "code",
   "execution_count": 27,
   "metadata": {},
   "outputs": [],
   "source": [
    "results_sim = []\n",
    "# Calculate Tanimoto similarity for each pair of fingerprints\n",
    "for i in range(len(fps)):\n",
    "    for j in range(i + 1, len(fps)):  # To avoid duplicate comparisons\n",
    "        try:\n",
    "            similarity = DataStructs.TanimotoSimilarity(fps[i], fps[j])\n",
    "            if similarity == 1:\n",
    "                results_sim.append({'smile1': all_smiles[i], 'smile2': all_smiles[j], 'similarity': similarity})\n",
    "        except:\n",
    "            print('Error in', j)"
   ]
  },
  {
   "cell_type": "code",
   "execution_count": 30,
   "metadata": {},
   "outputs": [],
   "source": [
    "# Convert results to a DataFrame\n",
    "similarity = pd.DataFrame(results_sim)\n",
    "similarity.to_csv('sim_random_smiles.csv')"
   ]
  }
 ],
 "metadata": {
  "kernelspec": {
   "display_name": ".venv",
   "language": "python",
   "name": "python3"
  },
  "language_info": {
   "codemirror_mode": {
    "name": "ipython",
    "version": 3
   },
   "file_extension": ".py",
   "mimetype": "text/x-python",
   "name": "python",
   "nbconvert_exporter": "python",
   "pygments_lexer": "ipython3",
   "version": "3.12.4"
  }
 },
 "nbformat": 4,
 "nbformat_minor": 2
}
