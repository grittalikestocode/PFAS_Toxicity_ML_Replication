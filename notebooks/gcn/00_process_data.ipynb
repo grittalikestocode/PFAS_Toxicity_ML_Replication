{
 "cells": [
  {
   "cell_type": "code",
   "execution_count": 1,
   "metadata": {},
   "outputs": [],
   "source": [
    "import pandas as pd\n",
    "import numpy as np\n",
    "from sklearn.model_selection import KFold, StratifiedKFold\n",
    "from sklearn.feature_selection import VarianceThreshold\n",
    "\n",
    "from rdkit import Chem\n",
    "from rdkit.Chem import Descriptors"
   ]
  },
  {
   "cell_type": "code",
   "execution_count": 2,
   "metadata": {},
   "outputs": [],
   "source": [
    "# The following functions are from the work of Feinstein et al.\n",
    "def count_cf_bonds(mol):\n",
    "    abstract_cf = Chem.MolFromSmarts('C~F')\n",
    "    cf_bonds = mol.GetSubstructMatches(abstract_cf)\n",
    "    return len(cf_bonds)\n",
    "\n",
    "# Turn to EPA categories\n",
    "def convert_to_mgkg(neglogld50s, smiles):\n",
    "    mgkg_values = []\n",
    "    for neglogld50, smile in zip(neglogld50s, smiles):\n",
    "        molwt = Descriptors.MolWt(Chem.MolFromSmiles(smile))\n",
    "        mgkg = (10**(-1*neglogld50)) * 1000 * molwt\n",
    "        mgkg_values.append(mgkg)\n",
    "    return mgkg_values\n",
    "\n",
    "# Function to convert mg/kg values to EPA categories\n",
    "def convert_to_epa(neglog_values, smiles):\n",
    "    mgkg_values = convert_to_mgkg(neglog_values, smiles)\n",
    "    epa_categories = pd.cut(mgkg_values, labels=[0,1,2,3], bins=[-np.inf, 50, 500, 5000, np.inf])\n",
    "    return epa_categories"
   ]
  },
  {
   "cell_type": "code",
   "execution_count": 3,
   "metadata": {},
   "outputs": [],
   "source": [
    "def safe_smiles(smiles_series):\n",
    "    \"\"\"\n",
    "    Converts a series of SMILES strings into canonical SMILES after validating \n",
    "    the conversion from SMILES to molecule and back to SMILES.\n",
    "    \n",
    "    Parameters:\n",
    "    smiles_series (pd.Series): A pandas Series containing SMILES strings.\n",
    "    \n",
    "    Returns:\n",
    "    pd.Series: A pandas Series containing canonical SMILES strings, \n",
    "               or None for invalid SMILES.\n",
    "    \"\"\"\n",
    "    def safe_smiles_to_smiles(smiles, idx):\n",
    "        try:\n",
    "            # Convert SMILES to molecule\n",
    "            mol = Chem.MolFromSmiles(smiles)\n",
    "            if mol is not None:\n",
    "                # Convert molecule back to canonical SMILES\n",
    "                return Chem.MolToSmiles(mol)\n",
    "            else:\n",
    "                raise ValueError(\"Invalid molecule\")\n",
    "        except Exception as e:\n",
    "            # Handle any errors and log the index and SMILES string\n",
    "            print(f\"Error at index {idx}: processing SMILES {smiles}, Error: {e}\")\n",
    "            return None\n",
    "    \n",
    "    return smiles_series.apply(lambda smiles: safe_smiles_to_smiles(smiles, smiles_series.index[smiles_series == smiles][0]))"
   ]
  },
  {
   "cell_type": "code",
   "execution_count": 4,
   "metadata": {},
   "outputs": [],
   "source": [
    "# Read the data with smiles and LD50\n",
    "ldtoxdb = pd.read_csv('../../data/ldtoxdb-mordred.csv').dropna(axis=1)"
   ]
  },
  {
   "cell_type": "code",
   "execution_count": 5,
   "metadata": {},
   "outputs": [],
   "source": [
    "# SMILES CANONIZATION\n",
    "ldtoxdb['smiles'] = safe_smiles(ldtoxdb.SMI)\n",
    "\n",
    "# Get other info\n",
    "ldtoxdb['rd_mol'] = ldtoxdb.smiles.apply(Chem.MolFromSmiles)\n",
    "ldtoxdb['mol_wt'] = ldtoxdb.rd_mol.apply(Chem.Descriptors.MolWt)\n",
    "\n",
    "# Find PFAS like\n",
    "ldtoxdb['n_cf_bonds'] = ldtoxdb.rd_mol.apply(count_cf_bonds)\n",
    "ldtoxdb['is_pfas_like'] = ldtoxdb['n_cf_bonds'] >= 2"
   ]
  },
  {
   "cell_type": "code",
   "execution_count": 6,
   "metadata": {},
   "outputs": [
    {
     "name": "stderr",
     "output_type": "stream",
     "text": [
      "[09:22:38] Explicit valence for atom # 1 Cl, 3, is greater than permitted\n"
     ]
    },
    {
     "name": "stdout",
     "output_type": "stream",
     "text": [
      "Error at index 4135: processing SMILES F[Cl](C(F)(F)C(F)(F)C(F)(F)C(F)(F)C(F)(F)C(F)(F)C(F)(F)C(F)(F)F)[Si](Cl)(Cl)C1=C(F)C(F)=C(F)C(F)=C1F, Error: Invalid molecule\n"
     ]
    }
   ],
   "source": [
    "# Read the PFAS dataset and convert smiles\n",
    "pfas8k = pd.read_csv('../../data/pfas8k-mordred.csv')\n",
    "pfas8k['canon_smi'] = safe_smiles(pfas8k.SMILES)\n",
    "pfas8k = pfas8k.dropna(subset=['canon_smi'])"
   ]
  },
  {
   "cell_type": "code",
   "execution_count": null,
   "metadata": {},
   "outputs": [],
   "source": [
    "# Classify the LDTOXDB\n",
    "ldtoxdb['is_pfas'] = ldtoxdb.smiles.isin(pfas8k.canon_smi)\n",
    "# Add EPA classes\n",
    "ldtoxdb['EPA'] = convert_to_epa(ldtoxdb['NeglogLD50'], smiles=ldtoxdb['smiles'])"
   ]
  },
  {
   "cell_type": "code",
   "execution_count": 12,
   "metadata": {},
   "outputs": [],
   "source": [
    "ldtoxdb.columns = ldtoxdb.columns.str.lower()"
   ]
  },
  {
   "cell_type": "code",
   "execution_count": 10,
   "metadata": {},
   "outputs": [],
   "source": [
    "# Separate PFAS and PFAS-like from data\n",
    "pfas_test = ldtoxdb[(ldtoxdb['is_pfas']) | (ldtoxdb['is_pfas_like'])]\n",
    "\n",
    "# The rest of the DataFrame where both columns are False\n",
    "training = ldtoxdb[~((ldtoxdb['is_pfas']) | (ldtoxdb['is_pfas_like']))]"
   ]
  },
  {
   "cell_type": "code",
   "execution_count": 13,
   "metadata": {},
   "outputs": [],
   "source": [
    "training.to_csv('../../data/training_dataset.csv', index=False)\n",
    "pfas_test.to_csv('../../data/test_pfas_dataset.csv', index=False)"
   ]
  }
 ],
 "metadata": {
  "kernelspec": {
   "display_name": ".venv",
   "language": "python",
   "name": "python3"
  },
  "language_info": {
   "codemirror_mode": {
    "name": "ipython",
    "version": 3
   },
   "file_extension": ".py",
   "mimetype": "text/x-python",
   "name": "python",
   "nbconvert_exporter": "python",
   "pygments_lexer": "ipython3",
   "version": "3.12.4"
  }
 },
 "nbformat": 4,
 "nbformat_minor": 2
}
